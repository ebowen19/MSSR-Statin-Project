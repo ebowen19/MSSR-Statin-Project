{
 "cells": [
  {
   "cell_type": "markdown",
   "id": "6bf91c12",
   "metadata": {},
   "source": [
    "Make sure to select the conda base kernel"
   ]
  },
  {
   "cell_type": "code",
   "execution_count": 1,
   "id": "cbcf6f12",
   "metadata": {},
   "outputs": [],
   "source": [
    "# import sys\n",
    "# print(sys.executable)\n",
    "# !conda list"
   ]
  },
  {
   "cell_type": "code",
   "execution_count": 6,
   "id": "6deeb6ea",
   "metadata": {},
   "outputs": [],
   "source": [
    "# !pip install scikit-image\n",
    "# !pip install numpy"
   ]
  },
  {
   "cell_type": "code",
   "execution_count": 2,
   "id": "4864f28b6c0dbc3a",
   "metadata": {
    "ExecuteTime": {
     "end_time": "2024-01-24T00:04:20.946058Z",
     "start_time": "2024-01-24T00:04:19.287600Z"
    },
    "collapsed": false
   },
   "outputs": [],
   "source": [
    "from skimage import io\n",
    "import numpy as np\n",
    "import os"
   ]
  },
  {
   "cell_type": "code",
   "execution_count": 3,
   "id": "019dd276",
   "metadata": {},
   "outputs": [
    {
     "data": {
      "text/plain": [
       "'/workspaces/MSSR-Statin-Project/scripts'"
      ]
     },
     "execution_count": 3,
     "metadata": {},
     "output_type": "execute_result"
    }
   ],
   "source": [
    "os.getcwd()"
   ]
  },
  {
   "cell_type": "code",
   "execution_count": 4,
   "id": "d1ef21713ce667e0",
   "metadata": {
    "ExecuteTime": {
     "end_time": "2024-01-23T23:55:14.529210Z",
     "start_time": "2024-01-23T23:55:14.499016Z"
    },
    "collapsed": false
   },
   "outputs": [],
   "source": [
    "# filenames are structured with '_w1', '_w2', '_w3' to indicate channels.\n",
    "directory = '../images/to_combine'\n",
    "output_directory = '../images'"
   ]
  },
  {
   "cell_type": "code",
   "execution_count": 5,
   "id": "ef8a9f65a7e59553",
   "metadata": {
    "ExecuteTime": {
     "end_time": "2024-01-24T00:20:07.615183Z",
     "start_time": "2024-01-24T00:20:07.525108Z"
    },
    "collapsed": false
   },
   "outputs": [],
   "source": [
    "\n",
    "# Create lists for different wavelength images\n",
    "w1_images, w2_images, w3_images = [], [], []\n",
    "\n",
    "# Populate the lists with corresponding image filenames\n",
    "for filename in sorted(os.listdir(directory)):\n",
    "    if (\"_w1\" in filename):\n",
    "        w1_images.append(filename)\n",
    "    elif (\"_w2\" in filename):\n",
    "        w2_images.append(filename)\n",
    "    elif (\"_w3\" in filename):\n",
    "        w3_images.append(filename)"
   ]
  },
  {
   "cell_type": "code",
   "execution_count": 6,
   "id": "fcad6d21c7d109c9",
   "metadata": {
    "ExecuteTime": {
     "end_time": "2024-01-24T00:21:59.859244Z",
     "start_time": "2024-01-24T00:20:10.921002Z"
    },
    "collapsed": false
   },
   "outputs": [
    {
     "name": "stdout",
     "output_type": "stream",
     "text": [
      "RGB_helix-20180720-10-NIH1_M04_w1.tif\n",
      "RGB_helix-20180720-11-NPW1_K21_w1.tif\n"
     ]
    }
   ],
   "source": [
    "for w1, w2, w3 in zip(w1_images, w2_images, w3_images):\n",
    "    # Assume w1 is something like 'image1.tif'\n",
    "    base_filename1 = os.path.splitext(w1)[0]  # This will remove the .tif and give 'image1'\n",
    "    base_filename = base_filename1.rstrip('w1') # remove w1 from end of filename   \n",
    "    output_filename = '{}.tif'.format(base_filename)\n",
    "    output_filename1 = '{}.tif'.format(base_filename1) # for old files that are still named w 'w1'\n",
    "    new_file_path = os.path.join(output_directory, output_filename)\n",
    "    new_file_path1 = os.path.join(output_directory, output_filename1)\n",
    "\n",
    "    if not (os.path.exists(new_file_path) or os.path.exists(new_file_path1)): # if it hasn't already been comnbined\n",
    "        # Read the images\n",
    "        img_w1 = io.imread(os.path.join(directory, w1), as_gray=True)\n",
    "        img_w2 = io.imread(os.path.join(directory, w2), as_gray=True)\n",
    "        img_w3 = io.imread(os.path.join(directory, w3), as_gray=True)\n",
    "\n",
    "        # Stack the images along the third axis to create an RGB image\n",
    "        # Note: Ensure that the images are correctly scaled (0-1 range for floats, 0-255 for integers)\n",
    "        img_w1 = img_w1 / img_w1.max()\n",
    "        img_w2 = img_w2 / img_w2.max()\n",
    "        img_w3 = img_w3 / img_w3.max()\n",
    "\n",
    "        rgb_image = np.stack((img_w3, img_w2, img_w1), axis=-1)\n",
    "        \n",
    "\n",
    "        # Save or display the image\n",
    "        io.imsave((new_file_path), (rgb_image * 255).astype(np.uint8))\n",
    "        print(output_filename)\n",
    "        # io.imshow(rgb_image)  # Display the image"
   ]
  }
 ],
 "metadata": {
  "kernelspec": {
   "display_name": "Python (base)",
   "language": "python",
   "name": "base"
  },
  "language_info": {
   "codemirror_mode": {
    "name": "ipython",
    "version": 3
   },
   "file_extension": ".py",
   "mimetype": "text/x-python",
   "name": "python",
   "nbconvert_exporter": "python",
   "pygments_lexer": "ipython3",
   "version": "3.11.5"
  }
 },
 "nbformat": 4,
 "nbformat_minor": 5
}
