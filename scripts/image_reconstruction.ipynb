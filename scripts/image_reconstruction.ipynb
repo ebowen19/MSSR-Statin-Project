{
 "cells": [
  {
   "cell_type": "code",
   "execution_count": 1,
   "id": "4864f28b6c0dbc3a",
   "metadata": {
    "ExecuteTime": {
     "end_time": "2024-01-24T00:04:20.946058Z",
     "start_time": "2024-01-24T00:04:19.287600Z"
    },
    "collapsed": false
   },
   "outputs": [
    {
     "ename": "ModuleNotFoundError",
     "evalue": "No module named 'skimage'",
     "output_type": "error",
     "traceback": [
      "\u001b[0;31m---------------------------------------------------------------------------\u001b[0m",
      "\u001b[0;31mModuleNotFoundError\u001b[0m                       Traceback (most recent call last)",
      "Cell \u001b[0;32mIn[1], line 1\u001b[0m\n\u001b[0;32m----> 1\u001b[0m \u001b[38;5;28;01mfrom\u001b[39;00m \u001b[38;5;21;01mskimage\u001b[39;00m \u001b[38;5;28;01mimport\u001b[39;00m io\n\u001b[1;32m      2\u001b[0m \u001b[38;5;28;01mimport\u001b[39;00m \u001b[38;5;21;01mnumpy\u001b[39;00m \u001b[38;5;28;01mas\u001b[39;00m \u001b[38;5;21;01mnp\u001b[39;00m\n\u001b[1;32m      3\u001b[0m \u001b[38;5;28;01mimport\u001b[39;00m \u001b[38;5;21;01mos\u001b[39;00m\n",
      "\u001b[0;31mModuleNotFoundError\u001b[0m: No module named 'skimage'"
     ]
    }
   ],
   "source": [
    "from skimage import io\n",
    "import numpy as np\n",
    "import os"
   ]
  },
  {
   "cell_type": "code",
   "execution_count": 4,
   "id": "d1ef21713ce667e0",
   "metadata": {
    "ExecuteTime": {
     "end_time": "2024-01-23T23:55:14.529210Z",
     "start_time": "2024-01-23T23:55:14.499016Z"
    },
    "collapsed": false
   },
   "outputs": [],
   "source": [
    "# filenames are structured with '_w1', '_w2', '_w3' to indicate channels.\n",
    "directory = '../images/to_combine'\n",
    "output_directory = '../images'\n",
    "os.makedirs(output_directory)"
   ]
  },
  {
   "cell_type": "code",
   "execution_count": 28,
   "id": "ef8a9f65a7e59553",
   "metadata": {
    "ExecuteTime": {
     "end_time": "2024-01-24T00:20:07.615183Z",
     "start_time": "2024-01-24T00:20:07.525108Z"
    },
    "collapsed": false
   },
   "outputs": [],
   "source": [
    "\n",
    "# Create lists for different wavelength images\n",
    "w1_images, w2_images, w3_images = [], [], []\n",
    "\n",
    "# Populate the lists with corresponding image filenames\n",
    "for filename in sorted(os.listdir(directory)):\n",
    "    if (\"_w1\" in filename) and ('._helix' not in filename):\n",
    "        w1_images.append(filename)\n",
    "    elif (\"_w2\" in filename) and ('._helix' not in filename):\n",
    "        w2_images.append(filename)\n",
    "    elif (\"_w3\" in filename) and ('._helix' not in filename):\n",
    "        w3_images.append(filename)"
   ]
  },
  {
   "cell_type": "code",
   "execution_count": 29,
   "id": "fcad6d21c7d109c9",
   "metadata": {
    "ExecuteTime": {
     "end_time": "2024-01-24T00:21:59.859244Z",
     "start_time": "2024-01-24T00:20:10.921002Z"
    },
    "collapsed": false
   },
   "outputs": [],
   "source": [
    "for w1, w2, w3 in zip(w1_images, w2_images, w3_images):\n",
    "    # Read the images\n",
    "    img_w1 = io.imread(os.path.join(directory, w1), as_gray=True)\n",
    "    img_w2 = io.imread(os.path.join(directory, w2), as_gray=True)\n",
    "    img_w3 = io.imread(os.path.join(directory, w3), as_gray=True)\n",
    "\n",
    "    # Stack the images along the third axis to create an RGB image\n",
    "    # Note: Ensure that the images are correctly scaled (0-1 range for floats, 0-255 for integers)\n",
    "    img_w1 = img_w1 / img_w1.max()\n",
    "    img_w2 = img_w2 / img_w2.max()\n",
    "    img_w3 = img_w3 / img_w3.max()\n",
    "\n",
    "    rgb_image = np.stack((img_w3, img_w2, img_w1), axis=-1)\n",
    "    \n",
    "    # Assume w1 is something like 'image1.tif'\n",
    "    base_filename = os.path.splitext(w1)[0]  # This will remove the .tif and give 'image1'    \n",
    "    output_filename = 'RGB_{}.tif'.format(base_filename)\n",
    "    # Save or display the image\n",
    "    io.imsave(os.path.join(output_directory, output_filename), (rgb_image * 255).astype(np.uint8))\n",
    "    # io.imshow(rgb_image)  # Display the image"
   ]
  }
 ],
 "metadata": {
  "kernelspec": {
   "display_name": "Python 3",
   "language": "python",
   "name": "python3"
  },
  "language_info": {
   "codemirror_mode": {
    "name": "ipython",
    "version": 3
   },
   "file_extension": ".py",
   "mimetype": "text/x-python",
   "name": "python",
   "nbconvert_exporter": "python",
   "pygments_lexer": "ipython3",
   "version": "3.10.13"
  }
 },
 "nbformat": 4,
 "nbformat_minor": 5
}
