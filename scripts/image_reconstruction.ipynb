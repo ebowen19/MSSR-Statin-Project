{
 "cells": [
  {
   "cell_type": "code",
   "outputs": [],
   "source": [
    "from skimage import io\n",
    "import numpy as np\n",
    "import os"
   ],
   "metadata": {
    "collapsed": false,
    "ExecuteTime": {
     "end_time": "2024-01-24T00:04:20.946058Z",
     "start_time": "2024-01-24T00:04:19.287600Z"
    }
   },
   "id": "4864f28b6c0dbc3a",
   "execution_count": 8
  },
  {
   "cell_type": "code",
   "outputs": [],
   "source": [
    "# filenames are structured with '_w1', '_w2', '_w3' to indicate channels.\n",
    "directory = '/Volumes/Luffy/2018-19 DH 630 plates/helix-20190111---Use Current State--20190112-091109_Plate_1197/Enhanced Images'\n",
    "output_directory = '/Volumes/Luffy/2018-19 DH 630 plates/helix-20190111---Use Current State--20190112-091109_Plate_1197/Reconstructed Images'\n",
    "os.makedirs(output_directory)"
   ],
   "metadata": {
    "collapsed": false,
    "ExecuteTime": {
     "end_time": "2024-01-23T23:55:14.529210Z",
     "start_time": "2024-01-23T23:55:14.499016Z"
    }
   },
   "id": "d1ef21713ce667e0",
   "execution_count": 4
  },
  {
   "cell_type": "code",
   "outputs": [],
   "source": [
    "\n",
    "# Create lists for different wavelength images\n",
    "w1_images, w2_images, w3_images = [], [], []\n",
    "\n",
    "# Populate the lists with corresponding image filenames\n",
    "for filename in sorted(os.listdir(directory)):\n",
    "    if (\"_w1\" in filename) and ('._helix' not in filename):\n",
    "        w1_images.append(filename)\n",
    "    elif (\"_w2\" in filename) and ('._helix' not in filename):\n",
    "        w2_images.append(filename)\n",
    "    elif (\"_w3\" in filename) and ('._helix' not in filename):\n",
    "        w3_images.append(filename)"
   ],
   "metadata": {
    "collapsed": false,
    "ExecuteTime": {
     "end_time": "2024-01-24T00:20:07.615183Z",
     "start_time": "2024-01-24T00:20:07.525108Z"
    }
   },
   "id": "ef8a9f65a7e59553",
   "execution_count": 28
  },
  {
   "cell_type": "code",
   "outputs": [],
   "source": [
    "for w1, w2, w3 in zip(w1_images, w2_images, w3_images):\n",
    "    # Read the images\n",
    "    img_w1 = io.imread(os.path.join(directory, w1), as_gray=True)\n",
    "    img_w2 = io.imread(os.path.join(directory, w2), as_gray=True)\n",
    "    img_w3 = io.imread(os.path.join(directory, w3), as_gray=True)\n",
    "\n",
    "    # Stack the images along the third axis to create an RGB image\n",
    "    # Note: Ensure that the images are correctly scaled (0-1 range for floats, 0-255 for integers)\n",
    "    img_w1 = img_w1 / img_w1.max()\n",
    "    img_w2 = img_w2 / img_w2.max()\n",
    "    img_w3 = img_w3 / img_w3.max()\n",
    "\n",
    "    rgb_image = np.stack((img_w3, img_w2, img_w1), axis=-1)\n",
    "    \n",
    "    # Assume w1 is something like 'image1.tif'\n",
    "    base_filename = os.path.splitext(w1)[0]  # This will remove the .tif and give 'image1'    \n",
    "    output_filename = 'RGB_{}.tif'.format(base_filename)\n",
    "    # Save or display the image\n",
    "    io.imsave(os.path.join(output_directory, output_filename), (rgb_image * 255).astype(np.uint8))\n",
    "    # io.imshow(rgb_image)  # Display the image"
   ],
   "metadata": {
    "collapsed": false,
    "ExecuteTime": {
     "end_time": "2024-01-24T00:21:59.859244Z",
     "start_time": "2024-01-24T00:20:10.921002Z"
    }
   },
   "id": "fcad6d21c7d109c9",
   "execution_count": 29
  }
 ],
 "metadata": {
  "kernelspec": {
   "display_name": "Python 3",
   "language": "python",
   "name": "python3"
  },
  "language_info": {
   "codemirror_mode": {
    "name": "ipython",
    "version": 2
   },
   "file_extension": ".py",
   "mimetype": "text/x-python",
   "name": "python",
   "nbconvert_exporter": "python",
   "pygments_lexer": "ipython2",
   "version": "2.7.6"
  }
 },
 "nbformat": 4,
 "nbformat_minor": 5
}
