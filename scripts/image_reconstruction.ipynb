{
 "cells": [
  {
   "cell_type": "markdown",
   "id": "6bf91c12",
   "metadata": {},
   "source": [
    "Make sure to select the conda base kernel"
   ]
  },
  {
   "cell_type": "code",
   "execution_count": 12,
   "id": "cbcf6f12",
   "metadata": {},
   "outputs": [
    {
     "name": "stdout",
     "output_type": "stream",
     "text": [
      "/opt/conda/bin/python\n",
      "# packages in environment at /opt/conda:\n",
      "#\n",
      "# Name                    Version                   Build  Channel\n",
      "_libgcc_mutex             0.1                        main  \n",
      "_openmp_mutex             5.1                       1_gnu  \n",
      "archspec                  0.2.1              pyhd3eb1b0_0  \n",
      "asttokens                 2.0.5              pyhd3eb1b0_0  \n",
      "boltons                   23.0.0          py311h06a4308_0  \n",
      "brotli-python             1.0.9           py311h6a678d5_7  \n",
      "bzip2                     1.0.8                h7b6447c_0  \n",
      "c-ares                    1.19.1               h5eee18b_0  \n",
      "ca-certificates           2023.12.12           h06a4308_0  \n",
      "certifi                   2023.11.17      py311h06a4308_0  \n",
      "cffi                      1.16.0          py311h5eee18b_0  \n",
      "charset-normalizer        2.0.4              pyhd3eb1b0_0  \n",
      "comm                      0.1.2           py311h06a4308_0  \n",
      "conda                     23.11.0         py311h06a4308_0  \n",
      "conda-libmamba-solver     23.11.1         py311h06a4308_0  \n",
      "conda-package-handling    2.2.0           py311h06a4308_0  \n",
      "conda-package-streaming   0.9.0           py311h06a4308_0  \n",
      "cryptography              41.0.4                   pypi_0    pypi\n",
      "debugpy                   1.6.7           py311h6a678d5_0  \n",
      "decorator                 5.1.1              pyhd3eb1b0_0  \n",
      "distro                    1.8.0           py311h06a4308_0  \n",
      "executing                 0.8.3              pyhd3eb1b0_0  \n",
      "fmt                       9.1.0                hdb19cb5_0  \n",
      "icu                       73.1                 h6a678d5_0  \n",
      "idna                      3.4             py311h06a4308_0  \n",
      "imageio                   2.33.1                   pypi_0    pypi\n",
      "ipykernel                 6.28.0          py311h06a4308_0  \n",
      "ipython                   8.20.0          py311h06a4308_0  \n",
      "jedi                      0.18.1          py311h06a4308_1  \n",
      "jsonpatch                 1.32               pyhd3eb1b0_0  \n",
      "jsonpointer               2.1                pyhd3eb1b0_0  \n",
      "jupyter_client            8.6.0           py311h06a4308_0  \n",
      "jupyter_core              5.5.0           py311h06a4308_0  \n",
      "krb5                      1.20.1               h143b758_1  \n",
      "lazy-loader               0.3                      pypi_0    pypi\n",
      "ld_impl_linux-64          2.38                 h1181459_1  \n",
      "libarchive                3.6.2                h6ac8c49_2  \n",
      "libcurl                   8.4.0                h251f7ec_1  \n",
      "libedit                   3.1.20221030         h5eee18b_0  \n",
      "libev                     4.33                 h7f8727e_1  \n",
      "libffi                    3.4.4                h6a678d5_0  \n",
      "libgcc-ng                 11.2.0               h1234567_1  \n",
      "libgomp                   11.2.0               h1234567_1  \n",
      "libmamba                  1.5.3                haf1ee3a_0  \n",
      "libmambapy                1.5.3           py311h2dafd23_0  \n",
      "libnghttp2                1.57.0               h2d74bed_0  \n",
      "libsodium                 1.0.18               h7b6447c_0  \n",
      "libsolv                   0.7.24               he621ea3_0  \n",
      "libssh2                   1.10.0               hdbd6064_2  \n",
      "libstdcxx-ng              11.2.0               h1234567_1  \n",
      "libuuid                   1.41.5               h5eee18b_0  \n",
      "libxml2                   2.10.4               hf1b16e4_1  \n",
      "lz4-c                     1.9.4                h6a678d5_0  \n",
      "matplotlib-inline         0.1.6           py311h06a4308_0  \n",
      "menuinst                  2.0.0           py311h06a4308_0  \n",
      "ncurses                   6.4                  h6a678d5_0  \n",
      "nest-asyncio              1.5.6           py311h06a4308_0  \n",
      "networkx                  3.2.1                    pypi_0    pypi\n",
      "numpy                     1.26.3                   pypi_0    pypi\n",
      "openssl                   3.0.12               h7f8727e_0  \n",
      "packaging                 23.1            py311h06a4308_0  \n",
      "parso                     0.8.3              pyhd3eb1b0_0  \n",
      "pcre2                     10.42                hebb0a14_0  \n",
      "pexpect                   4.8.0              pyhd3eb1b0_3  \n",
      "pillow                    10.2.0                   pypi_0    pypi\n",
      "pip                       23.3.2                   pypi_0    pypi\n",
      "platformdirs              3.10.0          py311h06a4308_0  \n",
      "pluggy                    1.0.0           py311h06a4308_1  \n",
      "prompt-toolkit            3.0.43          py311h06a4308_0  \n",
      "prompt_toolkit            3.0.43               hd3eb1b0_0  \n",
      "psutil                    5.9.0           py311h5eee18b_0  \n",
      "ptyprocess                0.7.0              pyhd3eb1b0_2  \n",
      "pure_eval                 0.2.2              pyhd3eb1b0_0  \n",
      "pybind11-abi              4                    hd3eb1b0_1  \n",
      "pycosat                   0.6.6           py311h5eee18b_0  \n",
      "pycparser                 2.21               pyhd3eb1b0_0  \n",
      "pygments                  2.15.1          py311h06a4308_1  \n",
      "pyopenssl                 23.2.0          py311h06a4308_0  \n",
      "pysocks                   1.7.1           py311h06a4308_0  \n",
      "python                    3.11.5               h955ad1f_0  \n",
      "python-dateutil           2.8.2              pyhd3eb1b0_0  \n",
      "pyzmq                     25.1.2          py311h6a678d5_0  \n",
      "readline                  8.2                  h5eee18b_0  \n",
      "reproc                    14.2.4               h295c915_1  \n",
      "reproc-cpp                14.2.4               h295c915_1  \n",
      "requests                  2.31.0          py311h06a4308_0  \n",
      "ruamel.yaml               0.17.21         py311h5eee18b_0  \n",
      "scikit-image              0.22.0                   pypi_0    pypi\n",
      "scipy                     1.12.0                   pypi_0    pypi\n",
      "setuptools                68.0.0          py311h06a4308_0  \n",
      "six                       1.16.0             pyhd3eb1b0_1  \n",
      "sqlite                    3.41.2               h5eee18b_0  \n",
      "stack_data                0.2.0              pyhd3eb1b0_0  \n",
      "tifffile                  2023.12.9                pypi_0    pypi\n",
      "tk                        8.6.12               h1ccaba5_0  \n",
      "tornado                   6.3.3           py311h5eee18b_0  \n",
      "tqdm                      4.65.0          py311h92b7b1e_0  \n",
      "traitlets                 5.7.1           py311h06a4308_0  \n",
      "truststore                0.8.0           py311h06a4308_0  \n",
      "tzdata                    2023c                h04d1e81_0  \n",
      "urllib3                   1.26.18         py311h06a4308_0  \n",
      "wcwidth                   0.2.5              pyhd3eb1b0_0  \n",
      "wheel                     0.41.2          py311h06a4308_0  \n",
      "xz                        5.4.5                h5eee18b_0  \n",
      "yaml-cpp                  0.8.0                h6a678d5_0  \n",
      "zeromq                    4.3.5                h6a678d5_0  \n",
      "zlib                      1.2.13               h5eee18b_0  \n",
      "zstandard                 0.19.0          py311h5eee18b_0  \n",
      "zstd                      1.5.5                hc292b87_0  \n"
     ]
    }
   ],
   "source": [
    "import sys\n",
    "print(sys.executable)\n",
    "!conda list"
   ]
  },
  {
   "cell_type": "code",
   "execution_count": 6,
   "id": "6deeb6ea",
   "metadata": {},
   "outputs": [],
   "source": [
    "# !pip install scikit-image\n",
    "# !pip install numpy"
   ]
  },
  {
   "cell_type": "code",
   "execution_count": 7,
   "id": "4864f28b6c0dbc3a",
   "metadata": {
    "ExecuteTime": {
     "end_time": "2024-01-24T00:04:20.946058Z",
     "start_time": "2024-01-24T00:04:19.287600Z"
    },
    "collapsed": false
   },
   "outputs": [],
   "source": [
    "from skimage import io\n",
    "import numpy as np\n",
    "import os"
   ]
  },
  {
   "cell_type": "code",
   "execution_count": 8,
   "id": "019dd276",
   "metadata": {},
   "outputs": [
    {
     "data": {
      "text/plain": [
       "'/workspaces/MSSR-Statin-Project/scripts'"
      ]
     },
     "execution_count": 8,
     "metadata": {},
     "output_type": "execute_result"
    }
   ],
   "source": [
    "os.getcwd()"
   ]
  },
  {
   "cell_type": "code",
   "execution_count": 9,
   "id": "d1ef21713ce667e0",
   "metadata": {
    "ExecuteTime": {
     "end_time": "2024-01-23T23:55:14.529210Z",
     "start_time": "2024-01-23T23:55:14.499016Z"
    },
    "collapsed": false
   },
   "outputs": [],
   "source": [
    "# filenames are structured with '_w1', '_w2', '_w3' to indicate channels.\n",
    "directory = '../images/to_combine'\n",
    "output_directory = '../images'"
   ]
  },
  {
   "cell_type": "code",
   "execution_count": 10,
   "id": "ef8a9f65a7e59553",
   "metadata": {
    "ExecuteTime": {
     "end_time": "2024-01-24T00:20:07.615183Z",
     "start_time": "2024-01-24T00:20:07.525108Z"
    },
    "collapsed": false
   },
   "outputs": [],
   "source": [
    "\n",
    "# Create lists for different wavelength images\n",
    "w1_images, w2_images, w3_images = [], [], []\n",
    "\n",
    "# Populate the lists with corresponding image filenames\n",
    "for filename in sorted(os.listdir(directory)):\n",
    "    if (\"_w1\" in filename) and ('._helix' not in filename):\n",
    "        w1_images.append(filename)\n",
    "    elif (\"_w2\" in filename) and ('._helix' not in filename):\n",
    "        w2_images.append(filename)\n",
    "    elif (\"_w3\" in filename) and ('._helix' not in filename):\n",
    "        w3_images.append(filename)"
   ]
  },
  {
   "cell_type": "code",
   "execution_count": 11,
   "id": "fcad6d21c7d109c9",
   "metadata": {
    "ExecuteTime": {
     "end_time": "2024-01-24T00:21:59.859244Z",
     "start_time": "2024-01-24T00:20:10.921002Z"
    },
    "collapsed": false
   },
   "outputs": [
    {
     "name": "stdout",
     "output_type": "stream",
     "text": [
      "RGB_helix-20180720-10-NIH1_B21_w1.tif\n",
      "RGB_helix-20180720-10-NIH1_I18_w1.tif\n"
     ]
    }
   ],
   "source": [
    "for w1, w2, w3 in zip(w1_images, w2_images, w3_images):\n",
    "    # Read the images\n",
    "    img_w1 = io.imread(os.path.join(directory, w1), as_gray=True)\n",
    "    img_w2 = io.imread(os.path.join(directory, w2), as_gray=True)\n",
    "    img_w3 = io.imread(os.path.join(directory, w3), as_gray=True)\n",
    "\n",
    "    # Stack the images along the third axis to create an RGB image\n",
    "    # Note: Ensure that the images are correctly scaled (0-1 range for floats, 0-255 for integers)\n",
    "    img_w1 = img_w1 / img_w1.max()\n",
    "    img_w2 = img_w2 / img_w2.max()\n",
    "    img_w3 = img_w3 / img_w3.max()\n",
    "\n",
    "    rgb_image = np.stack((img_w3, img_w2, img_w1), axis=-1)\n",
    "    \n",
    "    # Assume w1 is something like 'image1.tif'\n",
    "    base_filename = os.path.splitext(w1)[0]  # This will remove the .tif and give 'image1'    \n",
    "    output_filename = 'RGB_{}.tif'.format(base_filename)\n",
    "    # Save or display the image\n",
    "    io.imsave(os.path.join(output_directory, output_filename), (rgb_image * 255).astype(np.uint8))\n",
    "    print(output_filename)\n",
    "    # io.imshow(rgb_image)  # Display the image"
   ]
  }
 ],
 "metadata": {
  "kernelspec": {
   "display_name": "Python (base)",
   "language": "python",
   "name": "base"
  },
  "language_info": {
   "codemirror_mode": {
    "name": "ipython",
    "version": 3
   },
   "file_extension": ".py",
   "mimetype": "text/x-python",
   "name": "python",
   "nbconvert_exporter": "python",
   "pygments_lexer": "ipython3",
   "version": "3.11.5"
  }
 },
 "nbformat": 4,
 "nbformat_minor": 5
}
